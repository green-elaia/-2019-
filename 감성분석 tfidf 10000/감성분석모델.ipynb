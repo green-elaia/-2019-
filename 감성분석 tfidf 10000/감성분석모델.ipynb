{
 "cells": [
  {
   "cell_type": "markdown",
   "metadata": {
    "colab_type": "text",
    "id": "jCZ01V_YyK1z"
   },
   "source": [
    "## google drive 연동"
   ]
  },
  {
   "cell_type": "code",
   "execution_count": 1,
   "metadata": {
    "colab": {
     "base_uri": "https://localhost:8080/",
     "height": 127
    },
    "colab_type": "code",
    "executionInfo": {
     "elapsed": 43556,
     "status": "ok",
     "timestamp": 1558442467338,
     "user": {
      "displayName": "YoungJun PARK",
      "photoUrl": "",
      "userId": "09760512413270719083"
     },
     "user_tz": -540
    },
    "id": "wOEev76mzp4V",
    "outputId": "68628921-070e-419e-ea75-1024c669bc1b"
   },
   "outputs": [
    {
     "name": "stdout",
     "output_type": "stream",
     "text": [
      "Go to this URL in a browser: https://accounts.google.com/o/oauth2/auth?client_id=947318989803-6bn6qk8qdgf4n4g3pfee6491hc0brc4i.apps.googleusercontent.com&redirect_uri=urn%3Aietf%3Awg%3Aoauth%3A2.0%3Aoob&scope=email%20https%3A%2F%2Fwww.googleapis.com%2Fauth%2Fdocs.test%20https%3A%2F%2Fwww.googleapis.com%2Fauth%2Fdrive%20https%3A%2F%2Fwww.googleapis.com%2Fauth%2Fdrive.photos.readonly%20https%3A%2F%2Fwww.googleapis.com%2Fauth%2Fpeopleapi.readonly&response_type=code\n",
      "\n",
      "Enter your authorization code:\n",
      "··········\n",
      "Mounted at /content/gdrive\n"
     ]
    }
   ],
   "source": [
    "from google.colab import drive\n",
    "drive.mount('/content/gdrive') #google drive server에 접속, 내 구글 드라이버가 아님"
   ]
  },
  {
   "cell_type": "code",
   "execution_count": 2,
   "metadata": {
    "colab": {
     "base_uri": "https://localhost:8080/",
     "height": 35
    },
    "colab_type": "code",
    "executionInfo": {
     "elapsed": 3332,
     "status": "ok",
     "timestamp": 1558442473589,
     "user": {
      "displayName": "YoungJun PARK",
      "photoUrl": "",
      "userId": "09760512413270719083"
     },
     "user_tz": -540
    },
    "id": "8Faju29w1VmI",
    "outputId": "f02c5211-958d-4069-9691-64ac9abf2b00"
   },
   "outputs": [
    {
     "name": "stdout",
     "output_type": "stream",
     "text": [
      "hello google drive"
     ]
    }
   ],
   "source": [
    "# 연동여부 테스트\n",
    "with open('/content/gdrive/My Drive/foo.txt', 'w') as f:\n",
    "    f.write('hello google drive')\n",
    "\n",
    "!cat /content/gdrive/My\\ Drive/foo.txt\n",
    "\n",
    "# change working directory\n",
    "import os\n",
    "os.chdir('/content/gdrive/My Drive/thesis')"
   ]
  },
  {
   "cell_type": "markdown",
   "metadata": {
    "colab_type": "text",
    "id": "TEvL4NKA3qtG"
   },
   "source": [
    "## train/test csv file load"
   ]
  },
  {
   "cell_type": "code",
   "execution_count": 0,
   "metadata": {
    "colab": {},
    "colab_type": "code",
    "id": "qjKxnZfhyK10"
   },
   "outputs": [],
   "source": [
    "import csv\n",
    "\n",
    "def load_csv(filename):\n",
    "    with open(filename, 'r', encoding = 'UTF-8') as f:\n",
    "        csvReader = csv.reader(f)\n",
    "        temp = []\n",
    "        for row in csvReader:\n",
    "            temp.append(row)\n",
    "    return temp\n",
    "\n",
    "train_x = load_csv('train_x.csv')\n",
    "test_x = load_csv('test_x.csv')\n",
    "train_y = load_csv('train_y.csv')\n",
    "test_y = load_csv('test_y.csv')"
   ]
  },
  {
   "cell_type": "code",
   "execution_count": 0,
   "metadata": {
    "colab": {
     "base_uri": "https://localhost:8080/",
     "height": 161
    },
    "colab_type": "code",
    "executionInfo": {
     "elapsed": 578,
     "status": "ok",
     "timestamp": 1558188087150,
     "user": {
      "displayName": "YoungJun PARK",
      "photoUrl": "",
      "userId": "09760512413270719083"
     },
     "user_tz": -540
    },
    "id": "rQG4EHGB0s2m",
    "outputId": "cac7033b-a804-41f6-a785-ad225f1aa97b"
   },
   "outputs": [
    {
     "name": "stdout",
     "output_type": "stream",
     "text": [
      "<class 'list'>\n",
      "<class 'list'>\n",
      "<class 'list'>\n",
      "<class 'list'>\n",
      "150000\n",
      "150000\n",
      "50000\n",
      "50000\n"
     ]
    }
   ],
   "source": [
    "# csv file load test\n",
    "print(type(train_x[0]))\n",
    "print(type(test_x[0]))\n",
    "print(type(train_y[0]))\n",
    "print(type(test_y[0]))\n",
    "print(len(train_x))\n",
    "print(len(train_y))\n",
    "print(len(test_x))\n",
    "print(len(test_y))"
   ]
  },
  {
   "cell_type": "code",
   "execution_count": 0,
   "metadata": {
    "colab": {},
    "colab_type": "code",
    "id": "J6AmploWyK14"
   },
   "outputs": [],
   "source": [
    "# 데이터를 float 타입의 array로 변환\n",
    "import numpy as np\n",
    "\n",
    "x_train = np.asarray(train_x).astype('float32')\n",
    "x_test = np.asarray(test_x).astype('float32')\n",
    "y_train = np.asarray(train_y).astype('float32')\n",
    "y_test = np.asarray(test_y).astype('float32')"
   ]
  },
  {
   "cell_type": "markdown",
   "metadata": {
    "colab_type": "text",
    "id": "TKI8SmKIZ9rI"
   },
   "source": [
    "## train/test data set load"
   ]
  },
  {
   "cell_type": "code",
   "execution_count": 0,
   "metadata": {
    "colab": {},
    "colab_type": "code",
    "id": "YkhWnFt6JLrn"
   },
   "outputs": [],
   "source": [
    "import numpy as np\n",
    "\n",
    "x_train = np.load('x_train.npy')\n",
    "x_test = np.load('x_test.npy')\n",
    "y_train = np.load('y_train.npy')\n",
    "y_test = np.load('y_test.npy')"
   ]
  },
  {
   "cell_type": "code",
   "execution_count": 4,
   "metadata": {
    "colab": {
     "base_uri": "https://localhost:8080/",
     "height": 89
    },
    "colab_type": "code",
    "executionInfo": {
     "elapsed": 773,
     "status": "ok",
     "timestamp": 1558442646213,
     "user": {
      "displayName": "YoungJun PARK",
      "photoUrl": "",
      "userId": "09760512413270719083"
     },
     "user_tz": -540
    },
    "id": "QO_iuy1SJLrs",
    "outputId": "d30073ad-2b5f-4a44-f534-275b2e22bdd8"
   },
   "outputs": [
    {
     "name": "stdout",
     "output_type": "stream",
     "text": [
      "<class 'numpy.ndarray'>\n",
      "<class 'numpy.ndarray'>\n",
      "<class 'numpy.ndarray'>\n",
      "<class 'numpy.ndarray'>\n"
     ]
    }
   ],
   "source": [
    "# load test\n",
    "print(type(x_train))\n",
    "print(type(x_test))\n",
    "print(type(y_train))\n",
    "print(type(y_test))"
   ]
  },
  {
   "cell_type": "markdown",
   "metadata": {
    "colab_type": "text",
    "id": "mHSahK4UcmCy"
   },
   "source": [
    "## 모델 생성"
   ]
  },
  {
   "cell_type": "code",
   "execution_count": 5,
   "metadata": {
    "colab": {
     "base_uri": "https://localhost:8080/",
     "height": 503
    },
    "colab_type": "code",
    "executionInfo": {
     "elapsed": 66577,
     "status": "ok",
     "timestamp": 1558442822421,
     "user": {
      "displayName": "YoungJun PARK",
      "photoUrl": "",
      "userId": "09760512413270719083"
     },
     "user_tz": -540
    },
    "id": "9v4ZfAOtcpg_",
    "outputId": "6cfba87f-e862-4ba2-f732-eda6c08e1167"
   },
   "outputs": [
    {
     "name": "stdout",
     "output_type": "stream",
     "text": [
      "WARNING:tensorflow:From /usr/local/lib/python3.6/dist-packages/tensorflow/python/ops/resource_variable_ops.py:435: colocate_with (from tensorflow.python.framework.ops) is deprecated and will be removed in a future version.\n",
      "Instructions for updating:\n",
      "Colocations handled automatically by placer.\n",
      "WARNING:tensorflow:From /usr/local/lib/python3.6/dist-packages/tensorflow/python/ops/math_ops.py:3066: to_int32 (from tensorflow.python.ops.math_ops) is deprecated and will be removed in a future version.\n",
      "Instructions for updating:\n",
      "Use tf.cast instead.\n",
      "Epoch 1/10\n",
      "150000/150000 [==============================] - 6s 43us/sample - loss: 0.4000 - binary_accuracy: 0.8300 - precision: 0.8381 - recall: 0.8170\n",
      "Epoch 2/10\n",
      "150000/150000 [==============================] - 5s 36us/sample - loss: 0.3102 - binary_accuracy: 0.8664 - precision: 0.8706 - recall: 0.8600\n",
      "Epoch 3/10\n",
      "150000/150000 [==============================] - 6s 37us/sample - loss: 0.2636 - binary_accuracy: 0.8886 - precision: 0.8927 - recall: 0.8828\n",
      "Epoch 4/10\n",
      "150000/150000 [==============================] - 5s 36us/sample - loss: 0.2165 - binary_accuracy: 0.9121 - precision: 0.9151 - recall: 0.9079\n",
      "Epoch 5/10\n",
      "150000/150000 [==============================] - 5s 36us/sample - loss: 0.1698 - binary_accuracy: 0.9343 - precision: 0.9355 - recall: 0.9325\n",
      "Epoch 6/10\n",
      "150000/150000 [==============================] - 5s 35us/sample - loss: 0.1296 - binary_accuracy: 0.9523 - precision: 0.9531 - recall: 0.9512\n",
      "Epoch 7/10\n",
      "150000/150000 [==============================] - 5s 36us/sample - loss: 0.0982 - binary_accuracy: 0.9644 - precision: 0.9644 - recall: 0.9642\n",
      "Epoch 8/10\n",
      "150000/150000 [==============================] - 5s 35us/sample - loss: 0.0757 - binary_accuracy: 0.9734 - precision: 0.9732 - recall: 0.9734\n",
      "Epoch 9/10\n",
      "150000/150000 [==============================] - 5s 36us/sample - loss: 0.0604 - binary_accuracy: 0.9787 - precision: 0.9774 - recall: 0.9799\n",
      "Epoch 10/10\n",
      "150000/150000 [==============================] - 5s 36us/sample - loss: 0.0491 - binary_accuracy: 0.9823 - precision: 0.9811 - recall: 0.9836\n",
      "50000/50000 [==============================] - 5s 92us/sample - loss: 0.8155 - binary_accuracy: 0.8386 - precision: 0.8403 - recall: 0.8388\n"
     ]
    }
   ],
   "source": [
    "from tensorflow.keras import models\n",
    "from tensorflow.keras import layers\n",
    "from tensorflow.keras import optimizers\n",
    "from tensorflow.keras import losses\n",
    "from tensorflow.keras import metrics\n",
    "\n",
    "model = models.Sequential()\n",
    "model.add(layers.Dense(64, activation='relu', input_shape=(10000,)))\n",
    "model.add(layers.Dense(64, activation='relu'))\n",
    "model.add(layers.Dense(1, activation='sigmoid'))\n",
    "\n",
    "model.compile(optimizer=optimizers.Adam(lr=0.001),\n",
    "             loss=losses.binary_crossentropy,\n",
    "             metrics=[metrics.binary_accuracy\\\n",
    "                     ,metrics.Precision(name='precision')\\\n",
    "                     ,metrics.Recall(name='recall')])\n",
    "\n",
    "model.fit(x_train, y_train, epochs=10, batch_size=512)\n",
    "results = model.evaluate(x_test, y_test)"
   ]
  },
  {
   "cell_type": "code",
   "execution_count": 6,
   "metadata": {
    "colab": {
     "base_uri": "https://localhost:8080/",
     "height": 251
    },
    "colab_type": "code",
    "executionInfo": {
     "elapsed": 687,
     "status": "ok",
     "timestamp": 1558442947888,
     "user": {
      "displayName": "YoungJun PARK",
      "photoUrl": "",
      "userId": "09760512413270719083"
     },
     "user_tz": -540
    },
    "id": "fUhPExFmlqSD",
    "outputId": "a4913974-4609-4f0c-e639-d2d6871a9e42"
   },
   "outputs": [
    {
     "name": "stdout",
     "output_type": "stream",
     "text": [
      "_________________________________________________________________\n",
      "Layer (type)                 Output Shape              Param #   \n",
      "=================================================================\n",
      "dense (Dense)                (None, 64)                640064    \n",
      "_________________________________________________________________\n",
      "dense_1 (Dense)              (None, 64)                4160      \n",
      "_________________________________________________________________\n",
      "dense_2 (Dense)              (None, 1)                 65        \n",
      "=================================================================\n",
      "Total params: 644,289\n",
      "Trainable params: 644,289\n",
      "Non-trainable params: 0\n",
      "_________________________________________________________________\n"
     ]
    }
   ],
   "source": [
    "# 모델 개요\n",
    "model.summary()"
   ]
  },
  {
   "cell_type": "code",
   "execution_count": 0,
   "metadata": {
    "colab": {},
    "colab_type": "code",
    "id": "9n9xasHemjF6"
   },
   "outputs": [],
   "source": [
    "# 모델 저장\n",
    "model.save('second_model.h5')"
   ]
  },
  {
   "cell_type": "code",
   "execution_count": 9,
   "metadata": {
    "colab": {
     "base_uri": "https://localhost:8080/",
     "height": 251
    },
    "colab_type": "code",
    "executionInfo": {
     "elapsed": 2612,
     "status": "ok",
     "timestamp": 1558443277164,
     "user": {
      "displayName": "YoungJun PARK",
      "photoUrl": "",
      "userId": "09760512413270719083"
     },
     "user_tz": -540
    },
    "id": "F7epIvMUmrJp",
    "outputId": "ba55c5e2-e0f8-43fd-939f-e0e6037d17cd"
   },
   "outputs": [
    {
     "name": "stdout",
     "output_type": "stream",
     "text": [
      "_________________________________________________________________\n",
      "Layer (type)                 Output Shape              Param #   \n",
      "=================================================================\n",
      "dense (Dense)                (None, 64)                640064    \n",
      "_________________________________________________________________\n",
      "dense_1 (Dense)              (None, 64)                4160      \n",
      "_________________________________________________________________\n",
      "dense_2 (Dense)              (None, 1)                 65        \n",
      "=================================================================\n",
      "Total params: 644,289\n",
      "Trainable params: 644,289\n",
      "Non-trainable params: 0\n",
      "_________________________________________________________________\n"
     ]
    }
   ],
   "source": [
    "# 모델 로드\n",
    "load_model = models.load_model('second_model.h5')\n",
    "load_model.summary()"
   ]
  }
 ],
 "metadata": {
  "accelerator": "GPU",
  "colab": {
   "collapsed_sections": [],
   "name": "감성분석모델.ipynb",
   "provenance": [],
   "version": "0.3.2"
  },
  "kernelspec": {
   "display_name": "Python 3",
   "language": "python",
   "name": "python3"
  },
  "language_info": {
   "codemirror_mode": {
    "name": "ipython",
    "version": 3
   },
   "file_extension": ".py",
   "mimetype": "text/x-python",
   "name": "python",
   "nbconvert_exporter": "python",
   "pygments_lexer": "ipython3",
   "version": "3.7.3"
  }
 },
 "nbformat": 4,
 "nbformat_minor": 1
}
